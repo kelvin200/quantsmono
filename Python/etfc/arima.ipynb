{
 "metadata": {
  "language_info": {
   "codemirror_mode": {
    "name": "ipython",
    "version": 3
   },
   "file_extension": ".py",
   "mimetype": "text/x-python",
   "name": "python",
   "nbconvert_exporter": "python",
   "pygments_lexer": "ipython3",
   "version": "3.8.6-final"
  },
  "orig_nbformat": 2,
  "kernelspec": {
   "name": "Python 3.8.6 64-bit",
   "display_name": "Python 3.8.6 64-bit",
   "metadata": {
    "interpreter": {
     "hash": "2db524e06e9f5f4ffedc911c917cb75e12dbc923643829bf417064a77eb14d37"
    }
   }
  }
 },
 "nbformat": 4,
 "nbformat_minor": 2,
 "cells": [
  {
   "cell_type": "code",
   "execution_count": null,
   "metadata": {
    "tags": []
   },
   "outputs": [],
   "source": [
    "from datetime import datetime\n",
    "import MetaTrader5 as mt5\n",
    "import numpy as np\n",
    "from numpy import savez_compressed\n",
    "\n",
    "mt5.initialize()\n",
    "\n",
    "rates = mt5.copy_rates_from('GBPUSD', mt5.TIMEFRAME_H1, datetime(2020, 10, 2, 19), 10000)\n",
    "# rates2 = mt5.copy_rates_from('EURUSD', mt5.TIMEFRAME_H1, datetime(2020, 6, 2, 19), 2000)\n",
    "# rates3 = mt5.copy_rates_from('EURUSD', mt5.TIMEFRAME_D1, datetime(2020, 10, 2, 19), 400)\n",
    "# rates4 = mt5.copy_rates_from('EURUSD', mt5.TIMEFRAME_H1, datetime(2020, 10, 2, 19), 10000)\n",
    "\n",
    "mt5.shutdown()\n",
    "\n",
    "\n",
    "savez_compressed('data.npz', rates)\n"
   ]
  },
  {
   "cell_type": "code",
   "execution_count": null,
   "metadata": {},
   "outputs": [],
   "source": [
    "from numpy import savez_compressed\n",
    "\n",
    "savez_compressed('data.npz', rates)"
   ]
  },
  {
   "cell_type": "code",
   "execution_count": null,
   "metadata": {
    "tags": []
   },
   "outputs": [],
   "source": [
    "import pandas as pd\n",
    "import numpy as np\n",
    "\n",
    "from numpy import load\n",
    "# load dict of arrays\n",
    "dict_data = load('data.npz')\n",
    "data=dict_data['arr_0']\n",
    "\n",
    "\n",
    "def _return(d: pd.Series):\n",
    "    return d.iloc[-1]/d.iloc[0]-1\n",
    "\n",
    "\n",
    "def _diff(d: pd.Series):\n",
    "    return d.iloc[-1]-d.iloc[0]\n",
    "\n",
    "\n",
    "\n",
    "\n",
    "df = pd.DataFrame(data).loc[:, [\n",
    "    'time', 'open', 'high', 'low', 'close', 'tick_volume']]\n",
    "df = df.rename(columns={'time': 'Time', 'high': 'High', 'low': 'Low',\n",
    "                        'close': 'Close', 'tick_volume': 'Volume', 'open': 'Open'})\n",
    "\n",
    "df['Time'] = pd.to_datetime(df['Time'], unit='s')\n",
    "df = df.set_index('Time')\n",
    "\n",
    "\n",
    "# df['Return1'] = df['Open'].rolling(2).apply(_return)\n",
    "# df['Return2'] = df['Open'].rolling(3).apply(_return)\n",
    "# df['Return3'] = df['Open'].rolling(4).apply(_return)\n",
    "\n",
    "df['Diff1'] = df['Open'].rolling(2).apply(_diff)\n",
    "df['Diff4'] = df['Open'].rolling(2).apply(_diff)\n",
    "df['Diff24'] = df['Open'].rolling(25).apply(_diff)\n",
    "# df['Diff2'] = df['Open'].rolling(3).apply(_diff)\n",
    "# df['Diff3'] = df['Open'].rolling(4).apply(_diff)\n",
    "\n",
    "df['Diff1_1'] = df['Diff1'].rolling(2).apply(_diff)\n",
    "df['Diff1_1_1'] = df['Diff1_1'].rolling(2).apply(_diff)\n",
    "df['Diff1_1_1_1'] = df['Diff1_1_1'].rolling(2).apply(_diff)\n",
    "\n",
    "\n"
   ]
  },
  {
   "cell_type": "code",
   "execution_count": null,
   "metadata": {},
   "outputs": [],
   "source": [
    "import matplotlib.pyplot as plt\n",
    "import matplotlib.figure as mpfg\n",
    "import mplfinance as mpf\n",
    "\n",
    "\n",
    "\n",
    "df['Diff10'] = df['Open'].rolling(2).apply(_diff)\n",
    "df['Diff20'] = df['Open'].rolling(3).apply(_diff)\n",
    "df['Diff30'] = df['Open'].rolling(4).apply(_diff)\n",
    "for i in range(0,2):\n",
    "    df['Diff10'] = df['Diff10'].rolling(2).apply(_diff)\n",
    "for i in range(0,2):\n",
    "    df['Diff20'] = df['Diff20'].rolling(3).apply(_diff)\n",
    "for i in range(0,2):\n",
    "    df['Diff30'] = df['Diff30'].rolling(4).apply(_diff)\n",
    "\n",
    "dp = df[:500]\n",
    "apds = [\n",
    "    # mpf.make_addplot(dp['Return1'], panel=1, color='lightblue', secondary_y=False),\n",
    "    # mpf.make_addplot(dp['Return2'], panel=1, color='royalblue', secondary_y=False),\n",
    "    # mpf.make_addplot(dp['Return3'], panel=1, color='darkblue', secondary_y=False),\n",
    "    # mpf.make_addplot(dp['Diff1'], panel=1, color='lightblue', secondary_y=False),\n",
    "    # mpf.make_addplot(dp['Diff4'], panel=1, color='royalblue', secondary_y=False),\n",
    "    # mpf.make_addplot(dp['Diff24'], panel=1, color='blue', secondary_y=False),\n",
    "    # mpf.make_addplot(dp['Diff1_1'], panel=2, color='orange', secondary_y=False),\n",
    "    # mpf.make_addplot(dp['Diff1_1_1'], panel=3, color='red', secondary_y=False),\n",
    "    # mpf.make_addplot(dp['Diff1_1_1_1'], panel=4, color='yellow', secondary_y=False),\n",
    "    # mpf.make_addplot(dp['Diff2'], panel=2, color='red', secondary_y=True),\n",
    "    # mpf.make_addplot(dp['Diff3'], panel=2, color='darkred', secondary_y=True),\n",
    "    mpf.make_addplot(dp['Diff1'], panel=1, color='lightblue', secondary_y=False),\n",
    "    mpf.make_addplot(dp['Diff10'], panel=2, color='lightblue', secondary_y=False),\n",
    "    mpf.make_addplot(dp['Diff20'], panel=3, color='lightblue', secondary_y=False),\n",
    "    mpf.make_addplot(dp['Diff30'], panel=4, color='lightblue', secondary_y=False),\n",
    "]\n",
    "\n",
    "fig, axes = mpf.plot(dp, addplot=apds, figratio=(24, 10), type='line', style='nightclouds', volume=False,\n",
    "                     datetime_format='%Y-%m-%d %H:%M', xrotation=90, tight_layout=True, returnfig=True)\n",
    "axes[0].locator_params(nbins=50, axis='x')\n",
    "plt.show()"
   ]
  }
 ]
}