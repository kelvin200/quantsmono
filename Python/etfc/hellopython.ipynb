{
 "metadata": {
  "language_info": {
   "codemirror_mode": {
    "name": "ipython",
    "version": 3
   },
   "file_extension": ".py",
   "mimetype": "text/x-python",
   "name": "python",
   "nbconvert_exporter": "python",
   "pygments_lexer": "ipython3",
   "version": "3.8.5-final"
  },
  "orig_nbformat": 2,
  "kernelspec": {
   "name": "Python 3.8.5 64-bit",
   "display_name": "Python 3.8.5 64-bit",
   "metadata": {
    "interpreter": {
     "hash": "2db524e06e9f5f4ffedc911c917cb75e12dbc923643829bf417064a77eb14d37"
    }
   }
  }
 },
 "nbformat": 4,
 "nbformat_minor": 2,
 "cells": [
  {
   "cell_type": "code",
   "execution_count": null,
   "metadata": {
    "tags": []
   },
   "outputs": [],
   "source": [
    "from datetime import datetime\n",
    "import MetaTrader5 as mt5\n",
    "import numpy as np\n",
    "\n",
    "mt5.initialize()\n",
    "\n",
    "rates = mt5.copy_rates_from('EURUSD', mt5.TIMEFRAME_M10, datetime(2019, 11, 2, 19), 20)\n",
    "\n",
    "mt5.shutdown()\n"
   ]
  },
  {
   "cell_type": "code",
   "execution_count": null,
   "metadata": {},
   "outputs": [],
   "source": [
    "# Only trade low period\n",
    "# Only trade on high volume time\n",
    "# Only follow trend\n",
    "# Get out quick\n",
    "# High frequency trading\n",
    "# Hedge. Multiple trades\n",
    "\n",
    "# Trend: Up / Down / Side / Mixed\n",
    "# Strength: Strong / Light\n",
    "# Switch: Up->Down / Down->Up / Up->Side / Down->Side / Side->Up / Side->Down\n",
    "# Length: Long / Short\n"
   ]
  },
  {
   "cell_type": "code",
   "execution_count": null,
   "metadata": {},
   "outputs": [],
   "source": [
    "import pandas as pd\n",
    "\n",
    "df = pd.DataFrame(rates).loc[:, [\n",
    "    'time', 'open', 'high', 'low', 'close', 'tick_volume']]\n",
    "df = df.rename(columns={'time': 'Time', 'high': 'High', 'low': 'Low',\n",
    "                        'close': 'Close', 'tick_volume': 'Volume', 'open': 'Open'})\n",
    "\n",
    "df['Time'] = pd.to_datetime(df['Time'], unit='s')\n",
    "df['Weekday'] = np.array([x.weekday() for x in df['Time']])\n",
    "df['Weekday'] = np.array([x.weekday() for x in df['Time']])\n",
    "df['Weekday']\n"
   ]
  },
  {
   "cell_type": "code",
   "execution_count": null,
   "metadata": {
    "tags": []
   },
   "outputs": [],
   "source": [
    "import matplotlib.pyplot as plt\n",
    "import matplotlib.figure as mpfg\n",
    "import mplfinance as mpf\n",
    "\n",
    "import pandas as pd\n",
    "\n",
    "\n",
    "def _return(d: pd.Series):\n",
    "    return d.iloc[-1]/d.iloc[0]-1\n",
    "\n",
    "\n",
    "def _slope(d: pd.Series):\n",
    "    sl = (d.iloc[-1] - d.iloc[:d.size-1]) / np.arange(d.size+100, 101, -1)\n",
    "    return sl.iloc[np.argmax(abs(sl))]\n",
    "\n",
    "\n",
    "def _returnM(d: pd.Series):\n",
    "    sl = (d.iloc[-1] / d.iloc[:d.size-1]) - 1\n",
    "    return sl.iloc[np.argmax(abs(sl))]\n",
    "    return sl.mean()\n",
    "\n",
    "\n",
    "def _slopeV(d: pd.Series):\n",
    "    sl = (d.iloc[-1] - d.iloc[:d.size-1]) / np.arange(d.size, 1, -1)\n",
    "    return sl.std()\n",
    "\n",
    "\n",
    "\n",
    "\n",
    "df = df.set_index('Time')\n",
    "\n",
    "\n",
    "df['Return'] = df['Open'].rolling(24).apply(_return)\n",
    "df['Slope'] = df['Open'].rolling(48).apply(_slope)\n",
    "df['SlopeV'] = df['Open'].rolling(48).apply(_slopeV)\n",
    "df['VarH'] = (df['High'] - df['Low'] +\n",
    "              abs(df['Open'] - df['Close']) * 2).rolling(48).std()\n",
    "df['VarP'] = df['Open'].rolling(48).std()\n",
    "\n",
    "# df['Return4'] = df['Open'].rolling(4).apply(_return)\n",
    "# df['Return24'] = df['Open'].rolling(24).apply(_return)\n",
    "# df['Return48'] = df['Open'].rolling(48).apply(_return)\n",
    "\n",
    "\n",
    "df['ReturnM'] = df['Open'].rolling(48).apply(_returnM)\n",
    "\n",
    "\n",
    "\n",
    "df['SellX'] = df['Open']\n",
    "df['SellX'][(df['Slope'] < 0.5) | (df['ReturnM'] < 0.8)] = np.nan\n",
    "df['BuyX'] = df['Open']\n",
    "df['BuyX'][(df['Slope'] > -0.5) | (df['ReturnM'] > -0.8)] = np.nan\n",
    "\n",
    "\n",
    "df['Sell'] = df['Open']\n",
    "df['Sell'][df['Slope'] < 0.5] = np.nan\n",
    "df['Buy'] = df['Open']\n",
    "df['Buy'][df['Slope'] > -0.5] = np.nan\n",
    "\n",
    "df = df[48:]\n",
    "\n",
    "apds = [\n",
    "    # mpf.make_addplot(tcdf),\n",
    "    # mpf.make_addplot(low_signal, type='scatter', markersize=200, marker='^'),\n",
    "    # mpf.make_addplot(high_signal, type='scatter', markersize=200, marker='v'),\n",
    "    # mpf.make_addplot(df['Return'], panel=1, color='royalblue'),\n",
    "    mpf.make_addplot(df['Slope'], panel=1, color='red', secondary_y=False),\n",
    "    mpf.make_addplot(df['Return'], panel=1, color='royalblue', secondary_y=True),\n",
    "    mpf.make_addplot(df['ReturnM'], panel=1, color='green', secondary_y=True),\n",
    "    # mpf.make_addplot(df['Slope']X, panel=1, color='royalblue'),\n",
    "    # mpf.make_addplot(df['VarH'], panel=1, color='yellow', secondary_y=True),\n",
    "    # mpf.make_addplot(df['VarP'], panel=1, color='lime', secondary_y=True),\n",
    "]\n",
    "\n",
    "if np.all(df['Sell'] == np.nan):\n",
    "    apds.append(mpf.make_addplot(df['Sell'], type='scatter',markersize=100, marker='v', color='red'))\n",
    "\n",
    "if np.all(df['Buy'] == np.nan):\n",
    "    apds.append(mpf.make_addplot(df['Buy'], type='scatter', markersize=100, marker='^', color='blue'))\n",
    "\n",
    "if np.all(df['SellX'] == np.nan):\n",
    "    apds.append(mpf.make_addplot(df['SellX'], type='scatter', markersize=50, marker='v', color='orange'))\n",
    "\n",
    "if np.all(df['BuyX'] == np.nan):\n",
    "    apds.append(mpf.make_addplot(df['BuyX'], type='scatter', markersize=50, marker='^', color='cyan'))\n",
    "\n",
    "fig, axes = mpf.plot(df, addplot=apds, figratio=(24, 10), type='candle', style='nightclouds', volume=False,\n",
    "                     datetime_format='%Y-%m-%d %H:%M', xrotation=90, tight_layout=True, returnfig=True)\n",
    "axes[0].locator_params(nbins=50, axis='x')\n",
    "plt.show()\n"
   ]
  }
 ]
}